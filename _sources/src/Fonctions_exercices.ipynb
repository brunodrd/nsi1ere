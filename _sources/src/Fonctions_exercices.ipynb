{
 "cells": [
  {
   "cell_type": "markdown",
   "metadata": {},
   "source": [
    "S'approprier les fonctions - exercices\n",
    "==============================="
   ]
  },
  {
   "cell_type": "markdown",
   "metadata": {},
   "source": [
    "## Maximum  \n",
    "\n",
    "Définissez une fonction `maximum(n1,n2,n3)` qui renvoie le plus grand de 3 nombres $n_1, n_2,\n",
    "n_3$ fournis en paramètres."
   ]
  },
  {
   "cell_type": "code",
   "execution_count": 2,
   "metadata": {},
   "outputs": [],
   "source": [
    "def maximum(n1, n2, n3):\n",
    "    # Supprimer l'instruction pass et compléter avec votre code\n",
    "    pass"
   ]
  },
  {
   "cell_type": "code",
   "execution_count": null,
   "metadata": {},
   "outputs": [],
   "source": [
    "# Décommenter la ligne suivante et exécuter cette cellule\n",
    "#assert maximum(2, 3, 5) == 5, \"Erreur: valeur renvoyée incorrecte\""
   ]
  },
  {
   "cell_type": "markdown",
   "metadata": {},
   "source": [
    "## Volume d'un ballon  \n",
    "\n",
    "Ecrire une fonction `volume_ballon` qui prend en paramètre un rayon $r$ et qui retourne le volume $V$ d'un ballon de rayon $r$.  \n",
    "Rappel: $V=\\dfrac{4}{3}\\times\\pi r^{3}$  \n",
    "\n",
    "**Documenter** la fonction. Afficher le volume d'un ballon de football ($r=11$ cm) puis de basket ($r=12.4$ cm) en arrondissant les résultats (voir la fonction native `round()`). "
   ]
  },
  {
   "cell_type": "markdown",
   "metadata": {},
   "source": [
    "## Longueur d'un tweet\n",
    "\n",
    "La longueur maximale d'un message sur Tweeter est de 280 caractères. On souhaite écrire un programme qui indique le nombre de caractères d'un message qu'on souhaiterait publier.  \n",
    "1.  Que réalise la fonction native `len`?\n",
    "2.  Ecrire une fonction `longueur_message(msg)` qui prend comme paramètre un message (*une chaine de caractère*) et qui renvoit le nombre de caractères de ce message.\n",
    "3.  Ecrire le programme qui demande à l'utilisateur de rentrer son message et qui affiche la longueur de celui-ci. Utiliser la fonction précédente."
   ]
  },
  {
   "cell_type": "markdown",
   "metadata": {},
   "source": [
    "## Distance euclidienne ([France IOI](http://www.france-ioi.org/))  \n",
    "\n",
    "Sur les feuilles à motifs que vous leur avez imprimées tout à l'heure, les jeunes gens souhaiteraient calculer la distance entre deux motifs, ce qui ce fait facilement si l'on perçoit la feuille comme un repère orthonormé.\n",
    "Ce que doit faire votre programme :\n",
    "\n",
    "Écrivez une fonction qui prend en paramètre les coordonnées $(x_A,y_A)$ et $(x_B,y_B)$ de deux points et retourne la distance euclidienne entre ces deux points. On rappelle que la distance euclidienne entre deux points est égale à :\n",
    "$$\\sqrt{(x_B−x_A)^2+(y_B−y_A)^2}$$\n",
    "\n",
    "Utilisez ensuite cette fonction dans un programme qui lit quatre nombres décimaux $x_A, y_A, x_B$ et $y_B$ \n",
    "tapés au clavier, puis affiche la distance entre les deux points correspondants.\n",
    "\n",
    "On pourra utiliser la fonction $sqrt(x)$ du module `math`, qui retourne la racine carrée du paramètre $x$. "
   ]
  },
  {
   "cell_type": "code",
   "execution_count": null,
   "metadata": {},
   "outputs": [],
   "source": []
  }
 ],
 "metadata": {
  "kernelspec": {
   "display_name": "Python 3",
   "language": "python",
   "name": "python3"
  },
  "language_info": {
   "codemirror_mode": {
    "name": "ipython",
    "version": 3
   },
   "file_extension": ".py",
   "mimetype": "text/x-python",
   "name": "python",
   "nbconvert_exporter": "python",
   "pygments_lexer": "ipython3",
   "version": "3.8.3"
  },
  "toc": {
   "base_numbering": 1,
   "nav_menu": {},
   "number_sections": true,
   "sideBar": true,
   "skip_h1_title": false,
   "title_cell": "Table of Contents",
   "title_sidebar": "Contents",
   "toc_cell": false,
   "toc_position": {},
   "toc_section_display": true,
   "toc_window_display": false
  }
 },
 "nbformat": 4,
 "nbformat_minor": 4
}
