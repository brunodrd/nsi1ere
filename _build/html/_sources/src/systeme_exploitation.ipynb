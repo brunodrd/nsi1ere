{
 "cells": [
  {
   "cell_type": "markdown",
   "metadata": {},
   "source": [
    "SYSTEME D'EXPLOITATION\n",
    "======================"
   ]
  },
  {
   "cell_type": "markdown",
   "metadata": {},
   "source": [
    "## Quel est le rôle d'un système d'exploitation?"
   ]
  },
  {
   "cell_type": "markdown",
   "metadata": {},
   "source": [
    "Visionner la vidéo de la cellule suivante (*exécuter la cellule si besoin*) ou suivre le lien [https://www.youtube.com/watch?v=4OhUDAtmAUo](https://www.youtube.com/watch?v=4OhUDAtmAUo)."
   ]
  },
  {
   "cell_type": "code",
   "execution_count": null,
   "metadata": {},
   "outputs": [],
   "source": [
    "from IPython.display import YouTubeVideo\n",
    "\n",
    "\n",
    "YouTubeVideo('4OhUDAtmAUo', width=800, height=450)"
   ]
  },
  {
   "cell_type": "markdown",
   "metadata": {},
   "source": [
    "Le système d'exploitation permet:  \n",
    "\n",
    "* l'exécution des applications;\n",
    "* le partage des ressources entre les utilisateurs, les programmes;\n",
    "* la gestion:  \n",
    "\n",
    "    * des périphériques;\n",
    "    * des fichiers;\n",
    "    * des erreurs;\n",
    "    * des performances."
   ]
  },
  {
   "cell_type": "markdown",
   "metadata": {},
   "source": [
    "## Les différents types de système d'exploitation"
   ]
  },
  {
   "cell_type": "markdown",
   "metadata": {},
   "source": [
    "On distingue deux grandes familles de système d'exploitation:  \n",
    "\n",
    "* les dérivés d'UNIX (GNU/Linux, BSD, iOS, MacOS, Android, etc.);\n",
    "* les systèmes Microsoft Windows.  \n",
    "\n",
    "Certains sont **libres** (c-à-d ne nécessitant pas le paiement d'une licence d'utilisation, code source disponible, entre autres), d'autres non (on les qualifie de **systèmes propriétaires**).  \n",
    "Conformément au programme, on utilisera un système d'exploitation libre en NSI: GNU/Linux. En plus du noyau Linux et pour plus de convivialité on utilisera l'environnement graphique Gnome de la distribution Ubuntu.  \n",
    "\n",
    "L'interaction avec le système d'exploitation peut se faire de deux manières:  \n",
    "\n",
    "* par le biais d'une interface graphique (GUI: Graphical User Interface);\n",
    "* par le biais d'une interface en ligne de commande (CLI: Command Line Interface).  \n",
    "\n",
    "On privilégiera dans un premier temps l'utilisation de la **ligne de commande**."
   ]
  },
  {
   "cell_type": "markdown",
   "metadata": {},
   "source": [
    "## Découvrir la ligne de commande"
   ]
  },
  {
   "cell_type": "markdown",
   "metadata": {},
   "source": [
    "### L'interpréteur Bash ou shell Bash"
   ]
  },
  {
   "cell_type": "markdown",
   "metadata": {},
   "source": [
    "On a accès à la **ligne de commande** en ouvrant un **terminal** (à partir de l'accueil Ubuntu, rechercher 'terminal' si l'icône de lancement est absente).  \n",
    "\n",
    "![Ubuntu](img/ubuntu_350.png)  \n",
    "\n",
    "Il s'agit d'un programme appelé *Bash* qui est présent par défaut sur la majorité des sytèmes UNIX."
   ]
  },
  {
   "cell_type": "markdown",
   "metadata": {},
   "source": [
    "### Les commandes de base"
   ]
  },
  {
   "cell_type": "markdown",
   "metadata": {},
   "source": [
    "Une fois le terminal démarré, chaque utilisateur se trouve par défaut dans son dossier personnel (en anglais *home directory*) et le *shell Bash* est en attente de commande en affichant une série d'informations: `nom_utilisateur@nom_machine:~$`  \n",
    "\n",
    "![shell](img/shell.png)\n",
    "\n",
    "Le caractère `~` (prononcez tilde, touche Alt Gr 2) correspond au **chemin du répertoire personnel de l'utilisateur**. Le caractère `$` signifie que l'on a affaire à un utilisateur *normal* c-à-d avec des **droits** limités.  \n",
    "\n",
    "Toutes les commandes acceptent de nombreuses options. Pour avoir un inventaire complet des options on doit taper: `man xxx` où xxx est la commande.  \n",
    "\n",
    "| Commande \t| Description                          \t|\n",
    "|----------\t|--------------------------------------\t|\n",
    "| ls       \t| lister le contenu du dossier courant \t|\n",
    "| mkdir    \t| créer un dossier                     \t|\n",
    "| cd       \t| se déplacer dans un dossier          \t|\n",
    "| cp       \t| copier des fichiers ou dossiers      \t|\n",
    "| rm       \t| supprimer des fichiers ou dossiers   \t|\n",
    "| cat      \t| afficher le contenu d'un fichier     \t|\n",
    "| touch    \t| crée un fichier vide                 \t|\n",
    "| clear    \t| efface l'écran                       \t|  \n",
    "\n",
    "**Travail**  \n",
    "1. Créer un dossier personnel dont le nom respectera le format *1ere lettre du prénom* suivi du *nom*. Se rendre dans ce dossier. Par exemple, l'élève fictif Damien Payet tapera:  \n",
    "```bash\n",
    "mkdir ~/dpayet\n",
    "cd ~/dpayet\n",
    "```\n",
    "\n",
    "2. Créer un fichier vide nommé `commandes.txt`:  \n",
    "```bash\n",
    "touch commandes.txt\n",
    "```\n",
    "\n",
    "3. Lister le contenu du dossier. On utilisera une option `-l` avec la commande `ls`, pour avoir une sortie plus détaillée.  \n",
    "```bash\n",
    "ls -l\n",
    "```  \n",
    "\n",
    "4. Effacer l'écran."
   ]
  },
  {
   "cell_type": "markdown",
   "metadata": {},
   "source": [
    "### Aborescence d'un système Linux"
   ]
  },
  {
   "cell_type": "markdown",
   "metadata": {},
   "source": [
    "Les dossiers du systèmes sont organisés selon une **arborescence** dont la racine est `/`.  \n",
    "\n",
    "![arbre](img/arboresence.png)  \n",
    "\n",
    "Un utilisateur normal n'a pas les droits suffisants pour écrire dans les dossiers systèmes ou y effacer des fichiers. Seul le **superutilisateur** nommé **root** peut tout faire (et même détruire le système) et n'importe où !  \n",
    "\n",
    "Les changements de dossier se font naturellement avec la commande `cd` qui peut prendre comme paramètre:  \n",
    "\n",
    "* un **chemin absolu**, c-à-d **complètement** qualifié depuis racine `/` (par exemple `/home/bruno/Documents`);\n",
    "* un **chemin relatif**, c-à-d par rapport au dossier où on se trouve qui est noté avec le raccourci `.` (point); le dossier parent est noté avec le raccourci `..` (point point). Ainsi, si on est dans `/home/bruno/Documents` et qu'on veut se rendre dans `/home/bruno/Téléchargements` on tapera: \n",
    "\n",
    "```bash\n",
    "cd ../Téléchargements\n",
    "```\n",
    "\n",
    "**Travail**  \n",
    "1. Lister le contenu du dossier de superutilisateur, `/root`. Commentaire.  \n",
    "2. Combien d'utilisateur possède un compte sur la machine ? *Coup de pouce*: les dossiers utilisateur se trouvent dans `/home`.  \n",
    "3. D'après la capture d'écran ci-dessus, quelle commande permet de se déplacer dans `Periode1-2` ?"
   ]
  },
  {
   "cell_type": "markdown",
   "metadata": {},
   "source": [
    "## Gestion des droits"
   ]
  },
  {
   "cell_type": "markdown",
   "metadata": {},
   "source": [
    "Qui peut faire quoi et où ? Pour répondre à cette question, les environnements UNIX divisent le monde en trois parties:  \n",
    "\n",
    "* le propriétaire ou utilisateur (**u**ser);\n",
    "* le groupe (**g**roup);\n",
    "* les autres (**o**thers).  \n",
    "\n",
    "Par ailleurs, les **fichiers** peuvent être manipulés en:  \n",
    "\n",
    "* lecture (**r**ead);\n",
    "* écriture (**w**rite);\n",
    "* exécution (e**x**ecute).  \n",
    "\n",
    "Considérons la sortie de la commande `ls -l` sur un répertoire donné.  \n",
    "\n",
    "![droits](img/droits.png)  \n",
    "\n",
    "Trois colonnes sont utiles à la gestion des droits: 1, 3 et 4. La colonne 3 indique le propriétaire et la colonne 4 le groupe.  \n",
    "La colonne 1 qui contient 10 caractères doit être décomposé en quatre parties. Par exemple:  \n",
    "\n",
    "\\- rwx r\\-\\- r\\-\\-  \n",
    "\n",
    "Attention il n'y a pas d'espaces en réalité, ils ont été rajoutés pour une meilleure lisibilité !  \n",
    "\n",
    "* le 1er caractère: un `-` correspond à un fichier et un `d` à un répertoire;\n",
    "* un groupe de 3 caractères associés aux **droits du propriétaire**;\n",
    "* un groupe de 3 caractères associés aux **droits du groupe**;\n",
    "* un groupe de 3 caractères associés aux **droits des autres**;  \n",
    "\n",
    "Ainsi, dans l'exemple précédent `pajaniaye.odt` est un *fichier* dont le propriétaire est `nobody` qui dispose des droits en lecture et écriture de même que le groupe `4294967294`. Les `autres` n'ont que le droit en lecture.  \n",
    "\n",
    "*Remarque*: un `x` pour un fichier signifie **droit d'exécution** et **droit de traverser** pour un répertoire.  \n",
    "\n",
    "Pour **exécuter** un fichier nommé `app.sh` par exemple et situé dans le répertoire courant, on entre la commande `./app.sh`.  \n",
    "\n",
    "Enfin, seuls le propriétaire ou root peuvent changer les droits sur un fichier ou répertoire. La commande `chmod` est prévue à cet effet. Voir syntaxe dans le tableau suivant.  \n",
    "\n",
    "| Accorder les droits de:  \t| Syntaxe             \t|\n",
    "|--------------------------\t|---------------------\t|\n",
    "| lecture au groupe        \t| chmod g+r fichier   \t|\n",
    "| écriture au propriétaire \t| chmod u+w fichier   \t|\n",
    "| exécution aux autres     \t| chmod o+x fichier   \t|\n",
    "| exécution à tous         \t| chmod ugo+r fichier \t|\n",
    "\n",
    "*Remarque*: pour supprimer un droit, on utilise le signe `-`; par exemple, pour supprimer le droit d'écriture au groupe sur un fichier, on utilisera la commande:  \n",
    "```bash\n",
    "chmod g-w fichier\n",
    "```\n"
   ]
  }
 ],
 "metadata": {
  "kernelspec": {
   "display_name": "Python 3",
   "language": "python",
   "name": "python3"
  },
  "language_info": {
   "codemirror_mode": {
    "name": "ipython",
    "version": 3
   },
   "file_extension": ".py",
   "mimetype": "text/x-python",
   "name": "python",
   "nbconvert_exporter": "python",
   "pygments_lexer": "ipython3",
   "version": "3.7.3"
  },
  "toc": {
   "base_numbering": 1,
   "nav_menu": {},
   "number_sections": true,
   "sideBar": true,
   "skip_h1_title": false,
   "title_cell": "Table of Contents",
   "title_sidebar": "Contents",
   "toc_cell": false,
   "toc_position": {},
   "toc_section_display": true,
   "toc_window_display": true
  }
 },
 "nbformat": 4,
 "nbformat_minor": 4
}
