{
 "cells": [
  {
   "cell_type": "markdown",
   "metadata": {
    "deletable": false,
    "editable": false,
    "hideCode": true,
    "hidePrompt": true
   },
   "source": [
    "Les fonctions\n",
    "==========="
   ]
  },
  {
   "cell_type": "markdown",
   "metadata": {
    "deletable": false,
    "editable": false,
    "hideCode": true,
    "hidePrompt": true
   },
   "source": [
    "## Repères historiques\n",
    "\n",
    "<a title=\"&quot;null0&quot; [CC BY-SA 2.0 (https://creativecommons.org/licenses/by-sa/2.0)], via Wikimedia Commons\" href=\"https://commons.wikimedia.org/wiki/File:John_McCarthy_Stanford.jpg\"><img width=\"128\" alt=\"John McCarthy Stanford\" src=\"https://upload.wikimedia.org/wikipedia/commons/thumb/4/49/John_McCarthy_Stanford.jpg/128px-John_McCarthy_Stanford.jpg\"></a> <br />\n",
    "[John McCarthy](https://fr.wikipedia.org/wiki/John_McCarthy) *(1927-2011)* auteur du langage [Lisp](https://fr.wikipedia.org/wiki/Lisp) en 1958, dont la principale construction est la définition de **fonctions**. Il joua un rôle majeur dans la programmation en intelligence artificielle, écrivant un des premiers programmes jouant aux échecs."
   ]
  },
  {
   "cell_type": "markdown",
   "metadata": {
    "deletable": false,
    "editable": false,
    "hideCode": true,
    "hidePrompt": true
   },
   "source": [
    "## Notion de fonction: première approche\n",
    "\n",
    "Supposons que l'on doive afficher les valeurs des puissances de 2 les plus utilisées en architecture machine (8, 16, 32 et 64). On peut utiliser le programme du chapitre précédent:"
   ]
  },
  {
   "cell_type": "code",
   "execution_count": 1,
   "metadata": {
    "deletable": false,
    "editable": false,
    "hideCode": false,
    "hidePrompt": true
   },
   "outputs": [
    {
     "name": "stdout",
     "output_type": "stream",
     "text": [
      "256\n",
      "65536\n",
      "4294967296\n",
      "18446744073709551616\n"
     ]
    }
   ],
   "source": [
    "N = 8\n",
    "p = 1\n",
    "for c in range(N):\n",
    "    p = p * 2\n",
    "print(p)\n",
    "\n",
    "N = 16\n",
    "p = 1\n",
    "for c in range(N):\n",
    "    p = p * 2\n",
    "print(p)\n",
    "\n",
    "N = 32\n",
    "p = 1\n",
    "for c in range(N):\n",
    "    p = p * 2\n",
    "print(p)\n",
    "\n",
    "N = 64\n",
    "p = 1\n",
    "for c in range(N):\n",
    "    p = p * 2\n",
    "print(p)"
   ]
  },
  {
   "cell_type": "markdown",
   "metadata": {
    "deletable": false,
    "editable": false
   },
   "source": [
    "Procéder de cette façon met en évidence plusieurs problèmes. On peut citer:  \n",
    "\n",
    "*  les répétitions;\n",
    "*  la difficulté de maintenance du code *(que devrait-on faire si on souhaite ensuite les puissances de 16?)*\n",
    "*  etc.\n",
    "\n",
    "Une solution consiste à **isoler la partie de code qui se répète, à lui donner un nom et l'appeler lorsque c'est nécessaire**. "
   ]
  },
  {
   "cell_type": "markdown",
   "metadata": {
    "deletable": false,
    "editable": false,
    "hideCode": true,
    "hidePrompt": true
   },
   "source": [
    "## Définir une fonction\n",
    "Le langage python, comme la plupart des autres langages, possède une construction permettant de résoudre le problème précédent: la **fonction**. Une fonction est **un bloc de code associé à un nom**. On la définit avec:  \n",
    "\n",
    "* le mot clé `def` suivi d'un nom;\n",
    "* une paire de parenthèses à l'intérieur desquelles figurent éventuellement des paramètres;\n",
    "* un *deux-points* `:` terminant la ligne.\n",
    "\n",
    "```python\n",
    "def nom_fonction(paramètre(s)):\n",
    "    bloc_instructions\n",
    "```\n",
    "\n",
    "Le nom de la fonction **doit commencer par une lettre, ne doit pas être un mot reservé** et doit être autant que possible explicite. Le bloc d'instructions, qui constitue le corps de la fonction, **DOIT** être indenté. La fonction peut avoir 0, 1 ou plus de paramètres.  \n",
    "\n",
    "Créons une première version d'une fonction destinée à afficher les puissances de 2."
   ]
  },
  {
   "cell_type": "code",
   "execution_count": 3,
   "metadata": {
    "deletable": false,
    "editable": false,
    "hideCode": false,
    "hidePrompt": true
   },
   "outputs": [],
   "source": [
    "def puissance(n):\n",
    "    p = 1\n",
    "    for c in range(n):\n",
    "        p = p * 2\n",
    "    print(p)"
   ]
  },
  {
   "cell_type": "markdown",
   "metadata": {
    "deletable": false,
    "editable": false,
    "hideCode": true,
    "hidePrompt": true
   },
   "source": [
    "Lorsqu'on exécute ce code, il ne se passe **rien**. A ce stade on a définit la fonction, il faut maintenant l'appeler pour que tout son code soit exécuté. L'appel d'une fonction consiste à écrire **son nom suivi de parenthèses ouvrantes-fermantes** à l'intérieur desquelles on place d'éventuels **arguments**."
   ]
  },
  {
   "cell_type": "code",
   "execution_count": 4,
   "metadata": {
    "deletable": false,
    "editable": false
   },
   "outputs": [
    {
     "name": "stdout",
     "output_type": "stream",
     "text": [
      "32\n"
     ]
    }
   ],
   "source": [
    "puissance(5)"
   ]
  },
  {
   "cell_type": "code",
   "execution_count": 5,
   "metadata": {
    "deletable": false,
    "editable": false,
    "hideCode": false,
    "hideOutput": false,
    "hidePrompt": true
   },
   "outputs": [
    {
     "name": "stdout",
     "output_type": "stream",
     "text": [
      "256\n",
      "65536\n",
      "4294967296\n",
      "18446744073709551616\n"
     ]
    }
   ],
   "source": [
    "puissance(8)\n",
    "puissance(16)\n",
    "puissance(32)\n",
    "puissance(64)"
   ]
  },
  {
   "cell_type": "markdown",
   "metadata": {
    "deletable": false,
    "editable": false,
    "hideCode": true,
    "hidePrompt": true
   },
   "source": [
    "La définition de la fonction `puissance(n)` peut apparaître différente de la fonction en mathématique. En effet, pour un $n$ donné elle ne renvoie pas de valeur.  \n",
    "Si on veut forcer python à renvoyer **explicitement** une valeur, on la fait précéder du mot clé `return`. Cette instruction provoque en outre, **la fin de l'exécution** de la fonction, même si des instructions sont encore présentes.  \n",
    "Lorsqu'une fonction ne possède pas d'instruction `return`, python renvoie *implicitement* une valeur particulière `None` qui signifie 'rien'."
   ]
  },
  {
   "cell_type": "code",
   "execution_count": null,
   "metadata": {
    "deletable": false,
    "editable": false,
    "hideCode": false,
    "hideOutput": false,
    "hidePrompt": true
   },
   "outputs": [],
   "source": [
    "def puissance(n):\n",
    "    p = 1\n",
    "    for c in range(n):\n",
    "        p = p * 2\n",
    "    return p\n",
    "\n",
    "print(puissance(8))\n",
    "print(puissance(16))\n",
    "print(puissance(32))\n",
    "print(puissance(64))"
   ]
  },
  {
   "cell_type": "markdown",
   "metadata": {
    "hideCode": true,
    "hidePrompt": true
   },
   "source": [
    "## Spécifier une fonction\n",
    "En plus d'un nom explicite une fonction devrait être convenablement documentée. Cette documentation devra comporter les **spécifications** de la fonction, c'est-à-dire:  \n",
    "\n",
    "* ce qu'elle réalise et la nature du résultat (les **post-conditions**);\n",
    "* les hypothèses faites sur les entrées (les **pré-conditions**).  \n",
    "\n",
    "En python, la documentation suit immédiatement la définition de la fonction et est encadrée par des triples double quotes `\"\"\"`.  \n",
    "\n",
    "Pour garantir les post-conditions ou les pré-conditions, on utilise généralement des **assertions**. Une assertion est une expression qui doit être vraie (`True` en python) sinon le programme est arrêté. La syntaxe d'une assertion en python est:  \n",
    "\n",
    "```python\n",
    "assert expression, \"Message d'erreur explicite\"\n",
    "```\n",
    "La documentation d'une fonction est en outre accessible avec la fonction native `help()`\n",
    "\n",
    "Exemple d'une fonction correctement documentée et son utilisation"
   ]
  },
  {
   "cell_type": "code",
   "execution_count": 18,
   "metadata": {
    "deletable": false,
    "editable": false,
    "hideCode": false,
    "hidePrompt": true
   },
   "outputs": [],
   "source": [
    "def puissance(x,n):\n",
    "    \"\"\"\n",
    "    renvoie la puissance n-ième de x;\n",
    "    x: flottant\n",
    "    n: entier naturel\n",
    "    \"\"\"\n",
    "    assert type(n) == int, \"Erreur n doit être entier\"\n",
    "    assert n >= 0, \"Erreur n doit être entier naturel\"\n",
    "    p = 1\n",
    "    for c in range(n):\n",
    "        p = p * x\n",
    "    return p"
   ]
  },
  {
   "cell_type": "code",
   "execution_count": 19,
   "metadata": {
    "deletable": false,
    "editable": false
   },
   "outputs": [
    {
     "name": "stdout",
     "output_type": "stream",
     "text": [
      "Help on function puissance in module __main__:\n",
      "\n",
      "puissance(x, n)\n",
      "    renvoie la puissance n-ième de x;\n",
      "    x: flottant\n",
      "    n: entier naturel\n",
      "\n"
     ]
    }
   ],
   "source": [
    "help(puissance)"
   ]
  },
  {
   "cell_type": "code",
   "execution_count": 20,
   "metadata": {
    "deletable": false,
    "editable": false
   },
   "outputs": [
    {
     "data": {
      "text/plain": [
       "1024"
      ]
     },
     "execution_count": 20,
     "metadata": {},
     "output_type": "execute_result"
    }
   ],
   "source": [
    "puissance(2, 10)"
   ]
  },
  {
   "cell_type": "markdown",
   "metadata": {
    "deletable": false,
    "editable": false
   },
   "source": [
    "Décommenter l'appel de la fonction et exécuter cette cellule.\n",
    "Comment analyser le résultat obtenu ?"
   ]
  },
  {
   "cell_type": "code",
   "execution_count": 1,
   "metadata": {},
   "outputs": [],
   "source": [
    "#puissance(2, 2.5)"
   ]
  },
  {
   "cell_type": "markdown",
   "metadata": {
    "deletable": false,
    "editable": false,
    "hideCode": true,
    "hidePrompt": true
   },
   "source": [
    "## Fonctions de la bibliothèque standard\n",
    "La plupart des langages de programmation proposent des fonctions toutes prêtes. Ces fonctions fournies avec le langage sont regroupées au sein d'une **bibliothèque standard**. Il s'agit d'un ensemble de modules spécialisés (par exemple *math* ou *random*). Pour pouvoir utiliser les fonctions d'un module, il faut d'abord **importer** celui-ci avec l'instruction `import`.  \n",
    "Exemple"
   ]
  },
  {
   "cell_type": "code",
   "execution_count": 11,
   "metadata": {
    "deletable": false,
    "editable": false,
    "hideCode": false,
    "hidePrompt": true
   },
   "outputs": [],
   "source": [
    "import math"
   ]
  },
  {
   "cell_type": "markdown",
   "metadata": {
    "deletable": false,
    "editable": false,
    "hideCode": true,
    "hidePrompt": true
   },
   "source": [
    "Pour obtenir la documentation d'une fonction de la bibliothèque, on utilise la fonction `help()`."
   ]
  },
  {
   "cell_type": "code",
   "execution_count": 2,
   "metadata": {
    "deletable": false,
    "editable": false,
    "hideCode": false,
    "hidePrompt": true
   },
   "outputs": [
    {
     "name": "stdout",
     "output_type": "stream",
     "text": [
      "Help on built-in function radians in module math:\n",
      "\n",
      "radians(x, /)\n",
      "    Convert angle x from degrees to radians.\n",
      "\n"
     ]
    }
   ],
   "source": [
    "help(math.radians)"
   ]
  },
  {
   "cell_type": "markdown",
   "metadata": {
    "deletable": false,
    "editable": false,
    "hideCode": true,
    "hidePrompt": true
   },
   "source": [
    "Pour connaître les fonctions disponibles dans un module, on utilise la fonction `dir()`."
   ]
  },
  {
   "cell_type": "code",
   "execution_count": null,
   "metadata": {
    "deletable": false,
    "editable": false,
    "hideCode": false,
    "hideOutput": true,
    "hidePrompt": true
   },
   "outputs": [],
   "source": [
    "dir(math)"
   ]
  },
  {
   "cell_type": "markdown",
   "metadata": {
    "deletable": false,
    "editable": false,
    "hideCode": true,
    "hidePrompt": true
   },
   "source": [
    "Pour appeler une fonction d'un module ou une constante, on doit préfixer son nom du nom du module suivi d'un point."
   ]
  },
  {
   "cell_type": "code",
   "execution_count": 22,
   "metadata": {
    "deletable": false,
    "editable": false,
    "hideCode": false,
    "hidePrompt": true
   },
   "outputs": [
    {
     "name": "stdout",
     "output_type": "stream",
     "text": [
      "Sinus de pi/4:  0.7071067811865475\n"
     ]
    }
   ],
   "source": [
    "import math\n",
    "\n",
    "\n",
    "# Utilisation de la fonction sinus et de la constante pi\n",
    "print(\"Sinus de pi/4: \", math.sin(math.pi/4))"
   ]
  },
  {
   "cell_type": "markdown",
   "metadata": {
    "deletable": false,
    "editable": false,
    "hideCode": true,
    "hidePrompt": true
   },
   "source": [
    "On peut être tenté de raccourcir l'écriture précédente, avec la construction ci-dessous où `import *` signifie que l'on importe *tous les noms présents dans le module*. Dans la mesure du possible, on évitera cette pratique."
   ]
  },
  {
   "cell_type": "code",
   "execution_count": null,
   "metadata": {
    "deletable": false,
    "editable": false,
    "hideCode": false,
    "hidePrompt": true
   },
   "outputs": [],
   "source": [
    "from math import *\n",
    "\n",
    "\n",
    "print(\"Sinus de pi/4:\", sin(pi/4))"
   ]
  },
  {
   "cell_type": "markdown",
   "metadata": {
    "deletable": false,
    "editable": false
   },
   "source": [
    "## A retenir\n",
    "Une fonction permet une écriture plus concise du code, une maintenance plus aisée. On la déclare de la manière suivante:\n",
    "\n",
    "```python\n",
    "def nom_fonction(paramètre(s)):\n",
    "    bloc_instructions\n",
    "```\n",
    "L'appel se fait en écrivant le nom de la fonction suivi d'éventuels paramètres entre parenthèses.  \n",
    "La bibliothèque standard est constituée de modules contenant des fonctions prêtes à l'emploi. Après importation du module avec l'instruction `import`, on appelle la fonction suivant la syntaxe `nom_module.nom_fonction()`."
   ]
  },
  {
   "cell_type": "markdown",
   "metadata": {
    "deletable": false,
    "editable": false
   },
   "source": [
    "*Bruno DARID* 2020-2021  \n",
    "\n",
    "\n",
    "![licence](img/licence.svg.png)"
   ]
  }
 ],
 "metadata": {
  "celltoolbar": "Hide code",
  "hide_code_all_hidden": true,
  "kernelspec": {
   "display_name": "Python 3",
   "language": "python",
   "name": "python3"
  },
  "language_info": {
   "codemirror_mode": {
    "name": "ipython",
    "version": 3
   },
   "file_extension": ".py",
   "mimetype": "text/x-python",
   "name": "python",
   "nbconvert_exporter": "python",
   "pygments_lexer": "ipython3",
   "version": "3.8.3"
  },
  "toc": {
   "base_numbering": 1,
   "nav_menu": {},
   "number_sections": true,
   "sideBar": true,
   "skip_h1_title": false,
   "title_cell": "Table of Contents",
   "title_sidebar": "Contents",
   "toc_cell": false,
   "toc_position": {
    "height": "calc(100% - 180px)",
    "left": "10px",
    "top": "150px",
    "width": "369.594px"
   },
   "toc_section_display": true,
   "toc_window_display": true
  }
 },
 "nbformat": 4,
 "nbformat_minor": 2
}
