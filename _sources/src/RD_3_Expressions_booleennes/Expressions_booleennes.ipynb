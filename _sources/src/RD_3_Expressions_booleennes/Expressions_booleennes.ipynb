{
 "cells": [
  {
   "cell_type": "markdown",
   "metadata": {},
   "source": [
    "Expressions booléennes\n",
    "===================="
   ]
  },
  {
   "cell_type": "markdown",
   "metadata": {},
   "source": [
    "## Repères historiques\n",
    "![George Boole](img/Boole.jpg)  \n",
    "\n",
    "[George Boole](https://fr.wikipedia.org/wiki/George_Boole) (*1815-1864*): mathématicien, logicien britannique, auteur d'une algèbre **binaire** dite **booléenne** n'acceptant que deux valeurs 0 et 1.  \n",
    "[Lien](https://www.dailymotion.com/video/x71hxwp) vers la présentation de Marie Duflot-Kremer, chercheuse en informatique l'Université de Lorraine.  \n",
    "Aujourd'hui, l'algèbre de Boole trouve de nombreuses applications en informatique et dans la conception des circuits électroniques"
   ]
  },
  {
   "cell_type": "markdown",
   "metadata": {},
   "source": [
    "## Quelques définitions\n",
    "On appelle **valeur logique** ou **valeur booléenne** toute valeur notée par deux symboles. On peut utiliser par exemple un des couples de valeurs suivants : {0,1}, {vrai, faux}, {true, false} ou {ouvert, fermé}.  \n",
    "*Exemple*: l'état d'un interrupteur a une valeur booléenne, il peut être *ouvert* ou *fermé*.  \n",
    "\n",
    "Une **variable booléenne** (ou variable logique) est une grandeur représentée par un nom et pouvant prendre des valeurs booléennes.  \n",
    "\n",
    "L'algèbre de Boole est caractérisée par la donnée:  \n",
    "\n",
    "*  de deux opérations binaires **or** et **and** (*ou et et en français, correspondant respectivement, à la somme \"+\" et au produit \".\"*)  \n",
    "*  d'une opération unaire **not** (*en français non, correspondant au complémentaire $\\bar{}$*).  \n",
    "\n",
    "Ces opérations doivent vérifier certaines conditions qui ne seront pas exposées ici.\n",
    "En mathématique on trouve aussi les notations $\\lor$ (*disjonction*), $\\wedge$ (*conjonction*) et $\\lnot$ (*négation*).  \n",
    "\n",
    "L'association de variables booléennes et d'opérateur(s) booléen(s) produit une **expression booléenne**.  \n",
    "*Exemple*: si $a$, $b$ et $c$ sont trois variables booléennes, `(a and b and not c) or (a and  not b and c)` est une expression booléenne. Remarque: l'usage de parenthèses améliore la lisibilité.\n",
    "\n",
    "Dresser la **table de vérité** d'une expression booléenne signifie construire une table ayant autant de colonnes que de variables d'entrée plus une colonne donnant le résultat (*vrai* ou *faux*, 0 ou 1) pour chaque combinaison possible des variables d'entrée."
   ]
  },
  {
   "cell_type": "markdown",
   "metadata": {},
   "source": [
    "## Les opérations logiques élémentaires"
   ]
  },
  {
   "cell_type": "markdown",
   "metadata": {},
   "source": [
    "### Les symboles"
   ]
  },
  {
   "cell_type": "markdown",
   "metadata": {},
   "source": [
    "Les opérations logiques sont réalisées simplement avec des circuits électroniques (à base de transistors) appelés **portes logiques**. Voici les symboles des portes logiques utilisées pour les opérations and, or et not.  \n",
    "\n",
    "![symboles](img/symboles.png)\n"
   ]
  },
  {
   "cell_type": "markdown",
   "metadata": {},
   "source": [
    "*Note*: les symboles sont très peu utilisés (même en France!)."
   ]
  },
  {
   "cell_type": "markdown",
   "metadata": {},
   "source": [
    "### Simulations"
   ]
  },
  {
   "cell_type": "markdown",
   "metadata": {},
   "source": [
    "#### Opérateurs and, or et not\n",
    "Simuler avec le logiciel *Digital* du [professeur Helmut Neemann](https://github.com/hneemann/Digital) les opérations logiques and, or et not. &Eacute;tablir leur table de vérité.  "
   ]
  },
  {
   "cell_type": "markdown",
   "metadata": {},
   "source": [
    "#### Lois de De Morgan\n",
    "\n",
    "1. Dresser la table de vérité de l'expression `not (A or B)`;\n",
    "2. Vérifier les résultats par simulation;\n",
    "3. Proposer une expression équivalente;\n",
    "4. Reprendre les questions 1, 2 et 3 avec l'expression `not (A and B)`"
   ]
  },
  {
   "cell_type": "markdown",
   "metadata": {},
   "source": [
    "#### Une opération logique très utilisée\n",
    "Ouvrir le circuit \"Dilemme.dig\".  \n",
    "![dilemme](img/Dilemme.png)\n",
    "\n",
    "Réaliser la simulation. &Eacute;tablir et commenter sa table de vérité.  \n",
    "Cette opération très utilisée a pour symbole (*US*):  \n",
    "\n",
    "![ouex](img/ouex.png)"
   ]
  },
  {
   "cell_type": "markdown",
   "metadata": {},
   "source": [
    "## Problèmes"
   ]
  },
  {
   "cell_type": "markdown",
   "metadata": {},
   "source": [
    "### Addition binaire"
   ]
  },
  {
   "cell_type": "markdown",
   "metadata": {},
   "source": [
    "#### Demi additionneur\n",
    "Le demi additionneur est un circuit combinatoire qui permet de réaliser la somme arithmétique de deux nombres A et B chacun sur un bit.  \n",
    "\n",
    "![halfadder](img/halfAdder.png)\n",
    "\n",
    "A la sortie on va avoir la somme S et une éventuelle retenue R.  \n",
    "\n",
    "1. Ouvrir le fichier \"halfAdder.dig\" et passer en mode simulation. Dresser alors la table de vérité de ce circuit.\n",
    "2. En déduire la table d'addition binaire.\n",
    "3. En utilisant la fonction d'analyse du logiciel, donner l'expression booléenne de la sortie S et de la retenue R."
   ]
  },
  {
   "cell_type": "markdown",
   "metadata": {},
   "source": [
    "#### Additionneur complet\n",
    "Lorsqu'on souhaite effectuer l'addition binaire sur un bit de deux nombres $A_i$ et $B_i$, il faut tenir compte d'une éventuelle retenue $R_{i-1}$ provenant du calcul du rang précédent. On a alors un additionneur complet, qui est réalisé avec deux demi-additionneurs.  \n",
    "\n",
    "![fullAdder](img/fullAdder.png)  \n",
    "\n",
    "A la sortie on va avoir la somme $S_i$ et une éventuelle retenue $R_i$.  \n",
    "Ouvrir le fichier \"fullAdder.dig\" et passer en mode simulation. Dresser la table de vérité de l'additionneur complet."
   ]
  },
  {
   "cell_type": "markdown",
   "metadata": {},
   "source": [
    "#### Additionneur complet en python\n",
    "Python possède un type booléen nommé `bool`. Cependant, les valeurs booléenne `True` et `False`peuvent être associés aux entiers 1 et 0. On peut le vérifier sur l'exemple suivant:"
   ]
  },
  {
   "cell_type": "code",
   "execution_count": 5,
   "metadata": {},
   "outputs": [
    {
     "name": "stdout",
     "output_type": "stream",
     "text": [
      "True\n"
     ]
    }
   ],
   "source": [
    "type(False)\n",
    "A = False\n",
    "print(not A)"
   ]
  },
  {
   "cell_type": "code",
   "execution_count": 6,
   "metadata": {},
   "outputs": [
    {
     "name": "stdout",
     "output_type": "stream",
     "text": [
      "A == 1 ? :  True\n",
      "B == 1 ? :  False\n",
      "B == 0 ? :  True\n"
     ]
    }
   ],
   "source": [
    "A = True\n",
    "B = False\n",
    "print(\"A == 1 ? : \", A == 1)\n",
    "print(\"B == 1 ? : \", B == 1)\n",
    "print(\"B == 0 ? : \", B == 0)"
   ]
  },
  {
   "cell_type": "markdown",
   "metadata": {},
   "source": [
    "Les opérateurs binaires `and` et `or` sont parfois notés `.` et `+`. Quant à l'opérateur unaire `not` il est parfois représenté par une barre au dessus de la variable ou de l'expression boolélenne.  \n",
    "Ainsi, l'expression booléenne de la sortie $S_i$ de l'additionneur complet est:  \n",
    "\n",
    "$S_i=(\\overline{A_i} \\cdot \\overline{Bi} \\cdot R_{i-1}) + (\\overline{A_i} \\cdot B_i \\cdot \\overline{R_{i-1}}) + (A_i \\cdot \\overline{B_i} \\cdot \\overline{R_{i-1}}) + (A_i \\cdot B_i \\cdot R_{i-1})$.  \n",
    "Celle de la retenue est:\n",
    "$R_i=(A_i \\cdot R_{i-1}) + (A_i \\cdot B_i) + (B_i \\cdot R_{i-1})$.  \n",
    "\n",
    "Enfin, en python, les opérateurs booléens sont aussi nommés `and`, `or` et `not`. Ainsi l'expression booléenne $\\overline{A}\\cdot(B+\\overline{C})$ se traduit par: \n",
    "\n",
    "```python\n",
    "not A and (B or not C)\n",
    "```\n",
    "\n",
    "Dans la suite du cours et dans la perspective de l'examen de fin de 1re, on gardera les notations `and`, `or` et `not`.  \n",
    "\n",
    "**Application**\n",
    "On définit une fonction en python ayant le code suivant:"
   ]
  },
  {
   "cell_type": "code",
   "execution_count": 7,
   "metadata": {},
   "outputs": [],
   "source": [
    "def addb(n,a,b):\n",
    "    \"\"\"\n",
    "    Retourne ....\n",
    "    On suppose que a et b sont des chaines constitués des caractères \n",
    "    appartenant à {'0','1'}; n est un entier naturel supérieur à zéro.\n",
    "    \"\"\"\n",
    "    ri_1 = False\n",
    "    res = \"\"\n",
    "    for i in range(n-1,-1,-1):\n",
    "        ai = int(a[i])\n",
    "        bi = int(b[i])\n",
    "        si = (not ai and not bi and ri_1) or (not ai and bi and not ri_1) or \\\n",
    "        (ai and not bi and not ri_1) or (ai and bi and ri_1)\n",
    "        ri_1 = (ai and ri_1) or (ai and bi) or (bi and ri_1)\n",
    "        res = str(int(si)) + res\n",
    "    if ri_1:\n",
    "        res = '1' + res\n",
    "    return res"
   ]
  },
  {
   "cell_type": "code",
   "execution_count": 8,
   "metadata": {},
   "outputs": [
    {
     "data": {
      "text/plain": [
       "[20, 18, 16, 14, 12, 10, 8, 6]"
      ]
     },
     "execution_count": 8,
     "metadata": {},
     "output_type": "execute_result"
    }
   ],
   "source": [
    "addb(8,'11111111','00000001')\n",
    "list(range(20,5,-2))"
   ]
  },
  {
   "cell_type": "markdown",
   "metadata": {},
   "source": [
    "*  Consulter la [documentation officielle](https://docs.python.org/fr/3/library/stdtypes.html?highlight=range#range) de python sur la fonction range afin de comprendre la construction qui apparait à la ligne 9.\n",
    "*  Les spécifications étant incomplètes, expliquer ce que réalise cette fonction.\n",
    "*  Vérifier vos hypothèses avec quelques tests; par exemple:\n",
    "  *    `addb(4,'0001','0001')` \n",
    "  *  `addb(8,'11111111','00000001')` \n",
    "*  Quelle est l'utilité du test ligne 16 ?"
   ]
  },
  {
   "cell_type": "markdown",
   "metadata": {},
   "source": [
    "#### Caractère séquentiel de certains opérateurs booléens"
   ]
  },
  {
   "cell_type": "markdown",
   "metadata": {},
   "source": [
    "Lors de l'examen de la table de vérité de l'opérateur `and`, il en ressort que lors de l'évaluation d'une expression du type `expr1 and expr2` est faite de la manière suivante:  \n",
    "`expr1` est d'abord évalué, si sa valeur est `0` on arrête l'évaluation et la valeur `0` est renvoyée, sinon le traitement continue.  \n",
    "\n",
    "Il en est de même pour une expression du type `expr1 or expr2`:  \n",
    "`expr1` est d'abord évalué, si sa valeur est `1` on arrête l'évaluation et la valeur `1` est renvoyée, sinon le traitement continue.  \n",
    "On parle quelque fois *d'évaluation paresseuse*."
   ]
  },
  {
   "cell_type": "markdown",
   "metadata": {},
   "source": [
    "### Un circuit important: le multiplexeur (*pour les plus rapides ET curieux*)\n",
    "Le [multiplexeur](https://fr.wikipedia.org/wiki/Multiplexeur) est un circuit logique très important en architecture machine. Il permet de sélectionner une entrée parmi $N$ et de transférer sa valeur sur la sortie. La sélection se fait à l'aide d'une entrée *Select*."
   ]
  },
  {
   "cell_type": "markdown",
   "metadata": {},
   "source": [
    "#### Principe\n",
    "La figure ci-dessous présente le schéma de principe d'un multiplexeur à 4 entrées $A_0 ... A_3$ ainsi que sa réalisation avec les portes logiques élémentaires.\n",
    "\n",
    "![mux1](img/mux1.png) ![mux2](img/mux2.png)"
   ]
  },
  {
   "cell_type": "markdown",
   "metadata": {},
   "source": [
    "#### Simulation\n",
    "*  Ouvrir le fichier `mux2.dig` et passer en mode simulation.\n",
    "*  On souhaite sélectionner la deuxième entrée, quelle valeur logique doit-on affecter à $Select_0$ et $Select_1$?\n",
    "*  Réaliser la sélection précédente. Entrer la combinaison $(1,1,0,0)$ pour $(A_0,A_1,A_2,A_3)$. Que vaut $S$ ? Expliquer.\n",
    "*  Garder la même sélection. Donner une combinaison qui conduit à $S=1$. Expliquer."
   ]
  },
  {
   "cell_type": "markdown",
   "metadata": {},
   "source": [
    "## &Agrave; retenir\n",
    "L'algèbre de Boole est caractérisée par les trois opérations or, and et not. Avec ces opérateurs et des variables booléennes on peut construire des expressions logiques.  \n",
    "Dresser la table de vérité d'une expression signifie construire un tableau qui donne la valeur logique de l'expression pour chaque combinaison des variables d'entrées.  \n",
    "Quelques résultats importants:  \n",
    "\n",
    "| A \t| B \t| A or B \t| A and B \t| not A \t|\n",
    "|---\t|---\t|--------\t|---------\t|-------\t|\n",
    "| 0 \t| 0 \t| 0      \t| 0       \t| 1     \t|\n",
    "| 1 \t| 0 \t| 1      \t| 0       \t| 0     \t|\n",
    "| 1 \t| 1 \t| 1      \t| 1       \t| 0     \t|\n",
    "| 0 \t| 1 \t| 1      \t| 0       \t| 1     \t|"
   ]
  },
  {
   "cell_type": "markdown",
   "metadata": {},
   "source": [
    "![licence](img/licence.png)  \n",
    "\n",
    "Ce(tte) œuvre est mise à disposition selon les termes de la <a rel=\"license\" href=\"http://creativecommons.org/licenses/by-nc/4.0/\">Licence Creative Commons Attribution - Pas d’Utilisation Commerciale 4.0 International</a>. "
   ]
  },
  {
   "cell_type": "code",
   "execution_count": null,
   "metadata": {},
   "outputs": [],
   "source": []
  }
 ],
 "metadata": {
  "kernelspec": {
   "display_name": "Python 3",
   "language": "python",
   "name": "python3"
  },
  "language_info": {
   "codemirror_mode": {
    "name": "ipython",
    "version": 3
   },
   "file_extension": ".py",
   "mimetype": "text/x-python",
   "name": "python",
   "nbconvert_exporter": "python",
   "pygments_lexer": "ipython3",
   "version": "3.7.4"
  },
  "toc": {
   "base_numbering": 1,
   "nav_menu": {},
   "number_sections": true,
   "sideBar": true,
   "skip_h1_title": true,
   "title_cell": "Table of Contents",
   "title_sidebar": "Contents",
   "toc_cell": false,
   "toc_position": {},
   "toc_section_display": true,
   "toc_window_display": true
  }
 },
 "nbformat": 4,
 "nbformat_minor": 2
}
