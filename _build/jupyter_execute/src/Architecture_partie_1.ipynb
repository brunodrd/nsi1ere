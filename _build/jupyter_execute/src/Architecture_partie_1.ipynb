{
 "cells": [
  {
   "cell_type": "markdown",
   "metadata": {},
   "source": [
    "ARCHITECTURE DES ORDINATEURS - MODELE DE VON NEUMANN\n",
    "======================================================="
   ]
  },
  {
   "cell_type": "markdown",
   "metadata": {},
   "source": [
    "## Repères historiques"
   ]
  },
  {
   "cell_type": "markdown",
   "metadata": {},
   "source": [
    "### De l’objet conceptuel. . .\n",
    "En 1936, **Alan Turing** - un des plus brillants mathématiciens du XX e siècle - décrit une machine\n",
    "abstraite pour donner un support formel aux notions d’algorithme et de calcul : la fameuse «machine de Turing». Tout algorithme (procédé systématique de calcul) peut être réalisé par une machine de Turing.  \n",
    "Il s’agit d’un automate imaginaire muni d’un programme (sous la forme d’une\n",
    "table de transition entre états) et pouvant lire et écrire des caractères sur un ruban de longueur illimitée.  \n",
    "Le coup de génie de Turing est de démontrer l’existence d’une **Machine Universelle**: si on fournit à cette dernière la table de transition d’une machine de Turing particulière, autrement dit le programme d’un algorithme, **elle est capable de reproduire le fonctionnement de cette machine, donc d’exécuter le programme en question**!  \n",
    "\n",
    "![machine turing](img/turingmachine.png)\n",
    "\n",
    "*Pour les plus curieux*: voir article sur [https://interstices.info/alan-turing-du-concept-a-la-machine/](https://interstices.info/alan-turing-du-concept-a-la-machine/)"
   ]
  },
  {
   "cell_type": "markdown",
   "metadata": {},
   "source": [
    "### Au modèle d’architecture de von Neumann"
   ]
  },
  {
   "cell_type": "markdown",
   "metadata": {},
   "source": [
    "En 1945, **John von Neumann** (1903-1957), mathématicien américano-hongrois qui avait déjà\n",
    "rencontré Alan Turing et qui connaissait ses travaux, publia un rapport dans lequel il définit le\n",
    "modèle de l’ordinateur à «programme enregistré». La mémoire de cet ordinateur **contient à la fois les programmes et les données, comme dans la machine de Turing universelle**!  \n",
    "\n",
    "![von neumann](img/IAS_von_Neumann.jpg)\n"
   ]
  },
  {
   "cell_type": "markdown",
   "metadata": {},
   "source": [
    "## Modèle d'architecture séquentielle (*dite de von Neumann*)"
   ]
  },
  {
   "cell_type": "markdown",
   "metadata": {},
   "source": [
    "Un des grands points faibles du premier calculateur électronique l’[ENIAC](https://fr.wikipedia.org/wiki/ENIAC) était le fait que\n",
    "les données étaient lues sur cartes perforées, alors que le programme était représenté sur un **support externe**, sous la forme d’un panneau de connexion analogue à celui d’un standard téléphonique.\n",
    "L’idée fondamentale de John von Neumann a été de stocker **les données et les instructions des programmes en mémoire centrale**."
   ]
  },
  {
   "cell_type": "markdown",
   "metadata": {},
   "source": [
    "### Les composants essentiels\n",
    "En juin 1945 dans la première version du rapport  sur la conception de [l'EDVAC](https://fr.wikipedia.org/wiki/Electronic_Discrete_Variable_Automatic_Computer)  John von Neumann décrit un schéma d'architecture d'un calculateur organisé autour des éléments suivants:  \n",
    "\n",
    "*  une unité centrale ou **processeur** (on dit aussi CPU pour Central Processing Unit), formée d’une **unité arithmétique et logique** (*UAL*) et d’une **unité de commande** (*Control Unit*);\n",
    "*  la **mémoire**;\n",
    "*  des **unités d'entrée/sortie** qui permettent de communiquer avec l'extérieur.\n",
    "\n",
    "Ces éléments étant reliés entre eux par des **bus**.  \n",
    "\n",
    "![Modèle d'architecture](img/modele-originel2.png)"
   ]
  },
  {
   "cell_type": "markdown",
   "metadata": {},
   "source": [
    "#### L'unité arithmétique et logique (UAL) \n",
    "Elle est chargée d'effectuer le traitements des opérations arithmétiques ou booléennes:  \n",
    "\n",
    "  *  addition, multiplication, soustraction, division\n",
    "  *  ET, OU et NON logiques;\n",
    "  *  décalages de bits dans des registres  \n",
    "\n",
    "L'UAL est entourée généralement de **registres de données** (mémoires rapides) et d'un accumulateur qui accueille les opérandes des opérations ou le résultat."
   ]
  },
  {
   "cell_type": "markdown",
   "metadata": {},
   "source": [
    "#### L'unité de commande  ou unité de contrôle\n",
    "Elle est chargée de contrôler les échanges, gérer l'enchainement des instructions et les transferts entre les différents éléments.\n",
    "![Schema d'une unité de contrôle](img/control_unit.png)\n",
    "On y trouve, entre autres:  \n",
    "\n",
    "  *  un compteur ordinal ou \"program counter PC\" qui contient l'adresse de la prochaine instruction;\n",
    "  *  un registre d'instruction \"IR\" ou \"CIR\" (current instruction register) qui contient l'instruction lue;\n",
    "  *  un décodeur d'instruction (ou de *fonctions*);\n",
    "  *  un registre d'adresse \"MAR\" (memory address register) qui contient l'adresse de l'instruction à lire;\n",
    "  *  une horloge."
   ]
  },
  {
   "cell_type": "markdown",
   "metadata": {},
   "source": [
    "#### Les mémoires  \n",
    "Le rôle des mémoires est d'enregistrer les programmes et les données pouvant être executées par le microprocesseur. On peut classer les mémoires en deux grandes catégories:  \n",
    "\n",
    "*  les mémoires de travail;\n",
    "*  les mémoires de stockage. \n",
    "  \n",
    "Les **registres** sont des mémoires internes au microprocesseur. Ils sont très rapides et en nombre limité.  \n",
    "La **mémoire cache** est un intermédiaire entre une unité du microprocesseur et la RAM. Elle stocke des données provenant de celle-ci et permet ainsi d'accélérer leurs traitements.  \n",
    "Les **mémoires vives ou RAM** (*Random Access Memory*) permettent des opérations de lecture et d'écriture. Elles sont volatiles.  \n",
    "Les mémoires accessibles uniquement en lecture sont connues sous le nom de ROM (*Read Only Memory*).  \n",
    "\n",
    "Les **mémoires de stockage** (ou *mémoire de masse*) se présentent souvent sous la forme de disque.  \n",
    "Même si la fonction est la même (*mémorisation de l'information*), toutes ces mémoires ont des caractéristiques différentes.  \n",
    "\n",
    "![mémoires](img/DiU002.png)"
   ]
  },
  {
   "cell_type": "markdown",
   "metadata": {},
   "source": [
    "#### Les entrées-sorties"
   ]
  },
  {
   "cell_type": "markdown",
   "metadata": {},
   "source": [
    "Les périphériques d’entrée-sortie permettent à l’ordinateur de communiquer avec l’homme\n",
    "ou d’autres machines. Ils étaient initialement commandés par l’unité centrale. Depuis le début des\n",
    "années 1960 ils sont sous le contrôle de processeurs autonomes.  \n",
    "\n",
    "Exemple de fonctionnement d’un périphérique d’entrée-sortie : le disque dur. Supposons que l’unité centrale veuille lire un bloc sur le disque dur. Les principales étapes sont\n",
    "les suivantes:  \n",
    "\n",
    "* l’unité centrale formule cette demande en écrivant à l’adresse mémoire du contrôleur de disque;\n",
    "* le contrôleur de disque se charge d’écrire directement en mémoire les octets lus depuis le disque;\n",
    "* le contrôleur de disque signale la fin de la lecture sur le disque par le biais d’un mécanisme d’interruption (non abordé ici) ;\n",
    "* l’unité centrale execute la routine d’interruption puis reprend le flot d’instructions où il a été interrompu.\n",
    "\n",
    "![disque](img/ioprocessing.png)"
   ]
  },
  {
   "cell_type": "markdown",
   "metadata": {},
   "source": [
    "### Les bus"
   ]
  },
  {
   "cell_type": "markdown",
   "metadata": {},
   "source": [
    "Les différentes unités sont interconnectées par des systèmes de câblage appelé bus. Autour du processeur on trouve:  \n",
    "\n",
    "  *  le bus d'adresse (unidirectionnel);\n",
    "  *  le bus de données (bidirectionnel);\n",
    "  *  le bus de contrôle (bidirectionnel).\n",
    "  \n",
    "*Remarque*: les ordinateurs récents possèdent d'autres types de bus. "
   ]
  },
  {
   "cell_type": "markdown",
   "metadata": {},
   "source": [
    "## Qu'en est-il aujourd'hui ?\n",
    "Presque 75 ans après sa présentation le modèle d'architecture de Von Neumann est toujours valable. \n",
    "Cependant, les différences de vitesse entre le processeur et la mémoire ont conduit les fabricants d'ordinateur à intercaler des **mémoires caches** très rapides entre la mémoire centrale et le processeur.  \n",
    "Par ailleurs, les ordinateurs actuels comportent plusieurs processeurs (on dit aussi plusieurs \"coeurs\") intégrés sur une même puce. Cette tendance au \"parallélisme\" dans le traitement et la circulation des informations a conduit à une augmentation de la puissance de calcul sans augmenter la fréquence des processeurs individuels.\n",
    "\n",
    "Enfin, une différence, peu significative, par rapport au modèle original est que les dispositifs d'entrées/sorties peuvent communiquer avec la mémoire par le biais de contrôleur dédié ([DMA](https://fr.wikipedia.org/wiki/Acc%C3%A8s_direct_%C3%A0_la_m%C3%A9moire)). Si bien que le schéma actuel serait plutôt le suivant:\n",
    "![schema actuel](img/modele-actuel.png)  \n"
   ]
  },
  {
   "cell_type": "markdown",
   "metadata": {},
   "source": [
    "## Alternative: architecture de Harvard\n",
    "Dans le modèle d'architecture de Harvard les instructions et les données sont situées dans des mémoires différentes et sont véhiculés sur des bus indépendants.\n",
    "\n",
    "![harvard.001.jpg](img/harvard.001.jpg)\n",
    "\n",
    "La vitesse d'execution est de fait améliorée car en un seul cycle d'horloge on peut récupérer les données et le code instruction.  \n",
    "L'architecture de Harvard se retrouve beaucoup dans les systèmes embarqués."
   ]
  },
  {
   "cell_type": "code",
   "execution_count": null,
   "metadata": {},
   "outputs": [],
   "source": []
  }
 ],
 "metadata": {
  "kernelspec": {
   "display_name": "Python 3",
   "language": "python",
   "name": "python3"
  },
  "language_info": {
   "codemirror_mode": {
    "name": "ipython",
    "version": 3
   },
   "file_extension": ".py",
   "mimetype": "text/x-python",
   "name": "python",
   "nbconvert_exporter": "python",
   "pygments_lexer": "ipython3",
   "version": "3.7.3"
  },
  "toc": {
   "base_numbering": 1,
   "nav_menu": {},
   "number_sections": true,
   "sideBar": true,
   "skip_h1_title": false,
   "title_cell": "Table of Contents",
   "title_sidebar": "Contents",
   "toc_cell": false,
   "toc_position": {},
   "toc_section_display": true,
   "toc_window_display": true
  }
 },
 "nbformat": 4,
 "nbformat_minor": 2
}