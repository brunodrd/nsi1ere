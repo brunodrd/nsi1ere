{
 "cells": [
  {
   "cell_type": "markdown",
   "metadata": {},
   "source": [
    "Exercices de logique booléenne\n",
    "=========================="
   ]
  },
  {
   "cell_type": "markdown",
   "metadata": {},
   "source": [
    "## L'opérateur XOR"
   ]
  },
  {
   "cell_type": "markdown",
   "metadata": {},
   "source": [
    "1. En s'appuyant sur une simulation réalisée en cours (*Dilemme*) écrire une fonction python `xor` qui prend en paramètre deux variables booléennes `a` et `b` et qui renvoie le résultat de `a xor b`.\n",
    "2. Vérifier l'égalité `a xor b = (a and not b) or ((not a) and b)`. "
   ]
  },
  {
   "cell_type": "markdown",
   "metadata": {},
   "source": [
    "## L'opérateur logique NAND"
   ]
  },
  {
   "cell_type": "markdown",
   "metadata": {},
   "source": [
    "1. Ecrire une fonction python `nand` (*pour not and*) qui prend en paramètres deux variables booléennes `a` et `b` et qui renvoie le résultat de `a nand b`.\n",
    "2. Ecrire la table de vérité.\n",
    "3. Comparer les expressions suivantes:\n",
    "    * `nand(a,a)` et `not a`;\n",
    "    * `nand(nand(a, b), nand(a, b))` et `a and b`;\n",
    "    * `nand(nand(a, a), nand(b, b))` et `a or b`"
   ]
  },
  {
   "cell_type": "markdown",
   "metadata": {},
   "source": [
    "## L'opérateur logique NOR"
   ]
  },
  {
   "cell_type": "markdown",
   "metadata": {},
   "source": [
    "1. Ecrire une fonction python `nor` (*pour not or*) qui prend en paramètres deux variables booléennes `a` et `b` et qui renvoie le résultat de `a nor b`.\n",
    "2. Ecrire la table de vérité.\n",
    "3. Comparer les expressions suivantes:\n",
    "    * `nor(a,a)` et `not a`;\n",
    "    * `nor(nor(a, b), nor(a, b))` et `a or b`;\n",
    "    * `nor(nor(a, a), nor(b, b))` et `a and b`"
   ]
  },
  {
   "cell_type": "code",
   "execution_count": null,
   "metadata": {},
   "outputs": [],
   "source": []
  }
 ],
 "metadata": {
  "kernelspec": {
   "display_name": "Python 3",
   "language": "python",
   "name": "python3"
  },
  "language_info": {
   "codemirror_mode": {
    "name": "ipython",
    "version": 3
   },
   "file_extension": ".py",
   "mimetype": "text/x-python",
   "name": "python",
   "nbconvert_exporter": "python",
   "pygments_lexer": "ipython3",
   "version": "3.8.3"
  },
  "toc": {
   "base_numbering": 1,
   "nav_menu": {},
   "number_sections": true,
   "sideBar": true,
   "skip_h1_title": false,
   "title_cell": "Table of Contents",
   "title_sidebar": "Contents",
   "toc_cell": false,
   "toc_position": {},
   "toc_section_display": true,
   "toc_window_display": false
  }
 },
 "nbformat": 4,
 "nbformat_minor": 4
}
