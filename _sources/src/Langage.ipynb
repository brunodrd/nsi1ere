{
 "cells": [
  {
   "cell_type": "markdown",
   "metadata": {
    "deletable": false,
    "editable": false
   },
   "source": [
    "Langage - Constructions élémentaires\n",
    "==============================="
   ]
  },
  {
   "cell_type": "markdown",
   "metadata": {
    "deletable": false,
    "editable": false
   },
   "source": [
    "## Repères historiques\n",
    "![john_backus](img/John_Backus_3.png)  \n",
    " \n",
    "\n",
    "En 1954, [John Backus](https://fr.wikipedia.org/wiki/John_Backus)(*1924-2007*) présente le premier vrai langage de programmation tel qu'on l'entend aujourd'hui: le [Fortran](https://fr.wikipedia.org/wiki/Fortran). Il mit au point vers la fin des années 50 le langage [Algol](https://fr.wikipedia.org/wiki/Algol_(langage)). Il a, par la suite, proposé la *forme Backus-Naur* notation qui permet de décrire la *grammaire* des langages de programmation."
   ]
  },
  {
   "cell_type": "markdown",
   "metadata": {
    "deletable": false,
    "editable": false
   },
   "source": [
    "## Le langage Python"
   ]
  },
  {
   "cell_type": "markdown",
   "metadata": {
    "deletable": false,
    "editable": false
   },
   "source": [
    "### Introduction  \n",
    "Un **programme est un texte qui décrit un algorithme que l’on souhaite faire exécuter par une machine**. Ce texte est écrit dans un langage particulier, appelé *langage de programmation*. Le premier langage abordé en spécialité NSI est le langage **Python** en version 3. C'est un langage de haut niveau (*d'abstraction*) et interprété (*un programme appelé interpréteur se charge d'exécuter ligne par ligne le code \"source\"*).  \n",
    "L'utilisation de python peut se faire de deux façons:  \n",
    "\n",
    "* en mode interactif: on écrit le code dans une cellule et on l'exécute. C'est un mode très intéressant pour l'apprentissage et pour des portions de code de taille moyenne. Ce sera le mode privilégié en 1ère.\n",
    "* en mode programme: on écrit son programme dans un fichier `.py` et on exécute python sur ce fichier. Par exemple: `python3 prog1.py`. \n",
    "\n",
    "###  Les entrées/sorties  \n",
    "Dans un langage de programmation on appelle *entrées/sorties* des constructions permettant une communication avec l'utilisateur, donnant ainsi un aspect interactif au programme.  \n",
    "En python, un effet (*de bord*) de la fonction `print()` est d'afficher à l'écran les expressions passées en arguments:"
   ]
  },
  {
   "cell_type": "code",
   "execution_count": 2,
   "metadata": {},
   "outputs": [],
   "source": [
    "#Décommenter les lignes ci-dessous et exécuter la cellule\n",
    "#print(\"Hello World!\")\n",
    "#print(\"Python version 3.\", \"Environnement\", \"Jupyter Notebook 5.7\")\n",
    "#print(\"Python version 3.\", \"Environnement\", \"Jupyter Notebook 5.7\", sep=\"//\", end=\" \")\n",
    "#print(\"Pas de retour à la ligne.\")"
   ]
  },
  {
   "cell_type": "markdown",
   "metadata": {
    "deletable": false,
    "editable": false
   },
   "source": [
    "Les arguments optionnels comme `sep` ou `end` par exemple, permettent d'adapter l'affichage aux besoins.  \n",
    "\n",
    "Un effet de la fonction `input()` est d'interrompre le déroulement du programme et d'attendre que l'utilisateur tape quelque chose au clavier. Les caractères entrés sont généralement récupérés dans une **variable**."
   ]
  },
  {
   "cell_type": "code",
   "execution_count": null,
   "metadata": {},
   "outputs": [],
   "source": [
    "# Décommenter les lignes ci-dessous et exécuter la cellule\n",
    "#niveau = input(\"Quel est votre niveau en programmation (novice/intermédiaire/avancé)?\")\n",
    "#moyenne = input(\"Quelle était votre moyenne annuelle en math ?\")\n",
    "#print(\"Vous avez répondu:\",niveau,\"avec \", moyenne, \"en math!\")"
   ]
  },
  {
   "cell_type": "markdown",
   "metadata": {
    "deletable": false,
    "editable": false
   },
   "source": [
    "*Remarques*  \n",
    "\n",
    "*  `input()` **renvoie toujours une chaine de caractères** (même si l'utilisateur entre un nombre!);  \n",
    "*  la syntaxe employée à l'intérieur de la fonction `print()` bien que correcte, sera adaptée dans les cours ultérieurs tenant compte des dernières évolutions du langage."
   ]
  },
  {
   "cell_type": "markdown",
   "metadata": {
    "deletable": false,
    "editable": false
   },
   "source": [
    "## L'instruction simple déclaration-affectation\n",
    "Pour pouvoir accéder aux données, un programme d’ordinateur fait abondamment usage de **variables**. En python, **une variable est une référence désignant une adresse mémoire** (*c’est-à-dire un emplacement précis dans la mémoire vive*).  \n",
    "\n",
    "Contrairement à certains langages, les variables n'ont pas besoin d'être déclarées au préalable. La **déclaration et l'affectation de variables** peuvent se faire en une seule instruction. En python cette opération est réalisée selon le schéma `nom_variable = valeur`.  \n",
    "\n",
    "Exemples\n",
    "\n",
    "```python\n",
    "n = 7\n",
    "msg = \"Affectation\"\n",
    "pi = 3.14\n",
    "```\n",
    "\n",
    "*Remarque*: le nom de variable doit commencer par une lettre et ne pas être un mot réservé (voir [liste](https://docs.python.org/fr/3.7/reference/lexical_analysis.html#keywords)).  \n",
    "\n",
    "Le **type** d'une variable est déterminé lors de l'affectation. Dans l'exemple précédent, `n` est du type entier `int`, `msg` est du type chaîne de caractères `str`, `pi` est du type *flottant* (représente les décimaux) `float`.  "
   ]
  },
  {
   "cell_type": "markdown",
   "metadata": {
    "deletable": false,
    "editable": false
   },
   "source": [
    "## Les instructions composées"
   ]
  },
  {
   "cell_type": "markdown",
   "metadata": {
    "deletable": false,
    "editable": false
   },
   "source": [
    "### Séquence  et bloc d'instructions\n",
    "On peut définir une séquence d'instruction comme un ensemble de deux instructions exécutées l'une **à la suite** de l'autre (l'ordre est important!). Par exemple, les lignes\n",
    "\n",
    "```python\n",
    "x = x + 1\n",
    "x = x * 2\n",
    "```\n",
    "\n",
    "constituent une séquence d'instructions (*à condition que la variable x ait été affectée au préalable*). Nos programmes comporteront généralement des séquences de plus de deux instructions, on parlera alors de **bloc d'instructions**.  \n",
    "En python, un bloc d'instructions est repéré par son **indentation**, c'est-à-dire le décalage par rapport au bloc précédent (*typiquement un multiple de 4 espaces*).\n",
    "\n",
    "**Exercice d'application**  \n",
    "\n",
    "Soit un disque de centre O et de rayon $r$. Ecrire un programme (*séquence d'instructions*) qui permet de calculer et d'afficher l'aire $S$ de ce disque à partir de la valeur du rayon qui sera demandée à l'utilisateur. *Rappel*: $S=\\pi*r^{2}$."
   ]
  },
  {
   "cell_type": "code",
   "execution_count": 3,
   "metadata": {},
   "outputs": [],
   "source": [
    "PI = 3.14\n",
    "\n",
    "#Code à rajouter au dessous.\n",
    "#"
   ]
  },
  {
   "cell_type": "markdown",
   "metadata": {
    "deletable": false,
    "editable": false
   },
   "source": [
    "## Le test"
   ]
  },
  {
   "cell_type": "markdown",
   "metadata": {
    "deletable": false,
    "editable": false
   },
   "source": [
    "### Le test simple\n",
    "Une instruction (ou un bloc d'instructions) conditionnelle n'est executée que si une condition est vérifiée. En python, la syntaxe est la suivante:\n",
    "\n",
    "```python\n",
    "if condition:\n",
    "    bloc_instructions\n",
    "```"
   ]
  },
  {
   "cell_type": "markdown",
   "metadata": {
    "deletable": false,
    "editable": false
   },
   "source": [
    "**Exemple**  \n",
    "On cherche à savoir si un nombre saisi par l'utilisateur est pair. On se sert da la propriété suivante: *un nombre est pair si le* **reste** *de sa division euclidienne par 2 est nul*.  \n",
    "Eléments du langage nécessaires:  \n",
    "\n",
    "* le reste d'une division euclidienne est obtenu avec l'opérateur `%` en python;\n",
    "* le test d'égalité se fait avec l'opérateur `==`"
   ]
  },
  {
   "cell_type": "code",
   "execution_count": null,
   "metadata": {},
   "outputs": [],
   "source": [
    "# Décommenter puis exécuter cette cellule\n",
    "\n",
    "#entree = input(\"Entrer un nombre: \")\n",
    "#x = int(entree) # rappel: input renvoie un chaine de caractère, d'où la conversion en entier\n",
    "#if x % 2 == 0:\n",
    "#    print(\"Le reste de sa division par 2 est nul; \", x, \" est pair!\") "
   ]
  },
  {
   "cell_type": "markdown",
   "metadata": {
    "deletable": false,
    "editable": false
   },
   "source": [
    "Pour identifier sans ambiguités les instructions appartenant au bloc vérifiant la condition, on **DOIT LES INDENTER** en python.  \n",
    "La condition est souvent exprimée avec des **opérateurs de comparaisons**. Voici quelques exemples:  \n",
    "\n",
    "```python\n",
    "x == y # x est égal à y\n",
    "x != y # x est différent de y\n",
    "x > y # x est plus grand que y\n",
    "x < y # x est plus petit que y\n",
    "x >= y # x est plus grand que, ou égal à y\n",
    "x <= y # x est plus petit que, ou égal à y\n",
    "```"
   ]
  },
  {
   "cell_type": "markdown",
   "metadata": {
    "deletable": false,
    "editable": false
   },
   "source": [
    "**Exercice: nombre pair divisible par 8**  \n",
    "Ecrire un programme python qui affiche le message \"N est pair et divisible par 8\" si le nombre $N$ demandé à l'utilisateur vérifie cette condition.  \n",
    "*Coup de pouce*: imbriquer des conditions"
   ]
  },
  {
   "cell_type": "code",
   "execution_count": 7,
   "metadata": {},
   "outputs": [],
   "source": [
    "# Votre code dans cette cellule"
   ]
  },
  {
   "cell_type": "markdown",
   "metadata": {
    "deletable": false,
    "editable": false
   },
   "source": [
    "### Le test avec alternative\n",
    "Dans un test avec alternative, on ajoute un bloc à traiter lorsque la condition *n'est pas* vérifiée. La syntaxe est la suivante:\n",
    "\n",
    "```python\n",
    "if condition:\n",
    "    bloc_instructions_SI\n",
    "else:\n",
    "    bloc_instructions_SINON\n",
    "```\n",
    "\n",
    "L'exemple traité au paragraphe précédent peut être complété en utilisant une structure de test avec alternative:"
   ]
  },
  {
   "cell_type": "code",
   "execution_count": null,
   "metadata": {},
   "outputs": [],
   "source": [
    "# Décommenter puis exécuter cette cellule\n",
    "\n",
    "#entree = input(\"Entrer un nombre: \")\n",
    "#x = int(entree) # rappel: input renvoie un chaine de caractère, d'où la conversion en entier\n",
    "#if x % 2 == 0:\n",
    "#    print(\"Le reste de sa division par 2 est nul; \", x, \" est pair!\") \n",
    "#else:\n",
    "#    print(\"Le reste de sa division par 2 n'est pas nul; \", x, \" est impair!\")"
   ]
  },
  {
   "cell_type": "markdown",
   "metadata": {},
   "source": [
    "Question: aurait-on pu utiliser le code suivant pour tester la parité d'un nombre?  \n",
    "\n",
    "```python\n",
    "entree = input(\"Entrer un nombre: \")\n",
    "x = int(entree) # rappel: input renvoie un chaine de caractère, d'où la conversion en entier\n",
    "if x % 2 == 0:\n",
    "    print(\"Le reste de sa division par 2 est nul; \", x, \" est pair!\") \n",
    "    else:\n",
    "        print(\"Le reste de sa division par 2 n'est pas nul; \", x, \" est impair!\")\n",
    "```"
   ]
  },
  {
   "cell_type": "markdown",
   "metadata": {
    "deletable": false,
    "editable": false
   },
   "source": [
    "## La boucle"
   ]
  },
  {
   "cell_type": "markdown",
   "metadata": {
    "deletable": false,
    "editable": false
   },
   "source": [
    "### La boucle conditionnelle, *non bornée*\n",
    "#### Nécessité  \n",
    "1.  Exécuter le programme ci-dessous pour des valeurs de $N$ entières comprises entre 1 et 4. Que réalise-t-il? \n",
    "2.  Quel commentaire peut-on faire à propos du bloc d'instruction conditionnel?  \n",
    "3.  Que faudrait-il apporter comme modification (*ne pas le faire!*) si on souhaitait rendre possible le calcul jusqu'à $N=10$?"
   ]
  },
  {
   "cell_type": "code",
   "execution_count": null,
   "metadata": {
    "deletable": false,
    "editable": false
   },
   "outputs": [],
   "source": [
    "N = 4\n",
    "\n",
    "c = N\n",
    "p = 1\n",
    "if c != 0:\n",
    "    p = p * 2\n",
    "    c = c - 1\n",
    "    if c != 0:\n",
    "        p = p * 2\n",
    "        c = c - 1\n",
    "        if c != 0:\n",
    "            p = p * 2\n",
    "            c = c - 1\n",
    "            if c != 0:\n",
    "                p = p * 2\n",
    "                c = c - 1\n",
    "print(p)"
   ]
  },
  {
   "cell_type": "markdown",
   "metadata": {
    "deletable": false,
    "editable": false
   },
   "source": [
    "La méthode précédente montre ses limites: pour des valeurs quelconques de $N$ il faudrait répéter un grand nombre de fois les mêmes lignes. On aimerait exécuter les instructions \n",
    "```python\n",
    "p = p * 2\n",
    "c = c - 1\n",
    "```\n",
    "tant que le test ```c != 0``` est vérifié. Il s'agit d'une **boucle conditionnelle** ou encore **boucle while** (*en anglais*) ou **boucle tant que** (*en français*). "
   ]
  },
  {
   "cell_type": "markdown",
   "metadata": {
    "deletable": false,
    "editable": false
   },
   "source": [
    "#### Syntaxe\n",
    "En python, la boucle conditionnelle a la forme suivante:  \n",
    "\n",
    "```python\n",
    "while condition:\n",
    "    bloc_instructions\n",
    "```\n",
    "\n",
    "*Remarques*  \n",
    "\n",
    "*  la condition s'exprime généralement avec les opérateurs de comparaisons vu plus haut;\n",
    "*  le bloc d'instructions est indenté.  \n",
    "\n",
    "\n",
    "Le programme précédent peut ainsi s'écrire (le vérifier en l'exécutant):"
   ]
  },
  {
   "cell_type": "code",
   "execution_count": null,
   "metadata": {
    "deletable": false,
    "editable": false
   },
   "outputs": [],
   "source": [
    "N = 4\n",
    "\n",
    "c = N\n",
    "p = 1\n",
    "while c > 0:\n",
    "    p = p * 2\n",
    "    c = c - 1\n",
    "print(p)"
   ]
  },
  {
   "cell_type": "markdown",
   "metadata": {
    "deletable": false,
    "editable": false
   },
   "source": [
    "**Exercice d'application directe: table de multiplication**  \n",
    "Écrire un programme qui affiche les 10 premiers termes de la table de multiplication par 7 en utilisant une boucle conditionnelle. "
   ]
  },
  {
   "cell_type": "markdown",
   "metadata": {
    "deletable": false,
    "editable": false
   },
   "source": [
    "#### Danger lié à l'utilisation des boucles conditionnelles\n",
    "Il **faut que la condition ne soit plus vérifiée** à un moment donné pour assurer la **terminaison** de la boucle et éviter le bouclage infini. Ce point sera détaillé dans le cours d'algorithmique.  \n",
    "Dans le cas précédent, $c$ est un entier positif et décroit à chaque tour de boucle. On est sûr d'avoir $c=0$ et sortir ainsi de la boucle au bout d'un certain nombre **d'itérations** (tour de boucle).  "
   ]
  },
  {
   "cell_type": "markdown",
   "metadata": {
    "deletable": false,
    "editable": false
   },
   "source": [
    "### La boucle inconditionnelle ou *bornée*   \n",
    "Lorsque le **nombre d'itérations est connu d'avance** la boucle devient **inconditionnelle**. On l'appelle encore **boucle pour** (`for` loop en anglais).  \n",
    "En python, la syntaxe de la boucle `for`est la suivante:\n",
    "\n",
    "```python\n",
    "for variable_compteur in sequence:\n",
    "    bloc_instructions\n",
    "```\n",
    "\n",
    "*Remarques*  \n",
    "\n",
    "*  `sequence` est une suite d'objets, comme des entiers, des caractères d'une chaine, etc, (d'autres séquences seront vus dans les prochains cours); typiquement une séquence d'entiers est obtenue avec l'objet `range(n)` qui fourni les entiers allant de 0 à $n-1$.  \n",
    "*  Le bloc d'instructions doit être indenté.  \n",
    "\n",
    "Le programme utilisé pour exposer la boucle conditionnelle peut s'écrire de la manière suivante:"
   ]
  },
  {
   "cell_type": "code",
   "execution_count": null,
   "metadata": {
    "deletable": false,
    "editable": false
   },
   "outputs": [],
   "source": [
    "N = 4\n",
    "\n",
    "p = 1\n",
    "for c in range(N):\n",
    "    p = p * 2\n",
    "print(p)"
   ]
  },
  {
   "cell_type": "markdown",
   "metadata": {
    "deletable": false,
    "editable": false
   },
   "source": [
    "*Bruno DARID* 2020-2021  \n",
    "\n",
    "![licence](img/licence.svg.png)"
   ]
  }
 ],
 "metadata": {
  "celltoolbar": "Format de la Cellule Texte Brut",
  "kernelspec": {
   "display_name": "Python 3",
   "language": "python",
   "name": "python3"
  },
  "language_info": {
   "codemirror_mode": {
    "name": "ipython",
    "version": 3
   },
   "file_extension": ".py",
   "mimetype": "text/x-python",
   "name": "python",
   "nbconvert_exporter": "python",
   "pygments_lexer": "ipython3",
   "version": "3.8.3"
  },
  "toc": {
   "base_numbering": 1,
   "nav_menu": {},
   "number_sections": true,
   "sideBar": true,
   "skip_h1_title": false,
   "title_cell": "Table of Contents",
   "title_sidebar": "Contents",
   "toc_cell": false,
   "toc_position": {
    "height": "calc(100% - 180px)",
    "left": "10px",
    "top": "150px",
    "width": "369.594px"
   },
   "toc_section_display": true,
   "toc_window_display": true
  }
 },
 "nbformat": 4,
 "nbformat_minor": 4
}
