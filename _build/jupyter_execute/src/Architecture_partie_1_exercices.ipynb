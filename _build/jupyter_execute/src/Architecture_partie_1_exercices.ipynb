{
 "cells": [
  {
   "cell_type": "markdown",
   "metadata": {},
   "source": [
    "ARCHITECTURE 1 - EXERCICES\n",
    "=========================="
   ]
  },
  {
   "cell_type": "markdown",
   "metadata": {},
   "source": [
    "## Et aujourd'hui ?"
   ]
  },
  {
   "cell_type": "markdown",
   "metadata": {},
   "source": [
    "Un ordinateur personnel aujourd’hui, c’est un mélange de multiples composants.  \n",
    "\n",
    "![image ordi](img/img-004.jpg)"
   ]
  },
  {
   "cell_type": "markdown",
   "metadata": {},
   "source": [
    "1. Par rapport au modèle de Von Neumann, situer ces différents composants.\n",
    "2. Après avoir rappeler les éléments essentiels d'une architecture de type Von Neumann, repérer sur la photo le composant suceptible d'abriter une telle structure."
   ]
  },
  {
   "cell_type": "markdown",
   "metadata": {},
   "source": [
    "## QCM"
   ]
  },
  {
   "cell_type": "markdown",
   "metadata": {},
   "source": [
    "A traiter de préférence après avoir consulté le document intitulé *Une brève Histoire de l'informatique* à cette adresse: [https://www.math93.com/lycee/146-pedagogie/lycee/nsi/975-nsi-numerique-et-sciences-informatiques-une-histoire-de-l-informatique.html](https://www.math93.com/lycee/146-pedagogie/lycee/nsi/975-nsi-numerique-et-sciences-informatiques-une-histoire-de-l-informatique.html)"
   ]
  },
  {
   "cell_type": "markdown",
   "metadata": {},
   "source": [
    "1) Quel est le rôle de l'Unité Arithmétique et Logique dans un processeur?  \n",
    "- [ ] La gestion interne du processeur;\n",
    "- [ ] Gérer la communication entre les différents périphériques;\n",
    "- [ ] Gérer les entrées / sorties\n",
    "- [ ] Effectuer les calculs"
   ]
  },
  {
   "cell_type": "markdown",
   "metadata": {},
   "source": [
    "2) Parmi les éléments suivants, lequel n'est pas un périphérique d'entrée sortie ?"
   ]
  },
  {
   "cell_type": "markdown",
   "metadata": {},
   "source": [
    "- [ ] La souris\n",
    "- [ ] L'imprimante\n",
    "- [ ] Le clavier\n",
    "- [ ] La barette de mémoire"
   ]
  },
  {
   "cell_type": "markdown",
   "metadata": {},
   "source": [
    "3) Parmi les affirmations suivantes, laquelle est vraie ?"
   ]
  },
  {
   "cell_type": "markdown",
   "metadata": {},
   "source": [
    "- [ ] La RAM est une mémoire accessible en lecture seulement\n",
    "- [ ] La RAM est une mémoire accessible en écriture seulement\n",
    "- [ ] La RAM est une mémoire accessible en lecture et en écriture\n",
    "- [ ] La RAM permet de stocker des données après extinction de la machine"
   ]
  },
  {
   "cell_type": "markdown",
   "metadata": {},
   "source": [
    "4) Dans le modèle d'architecture de Von Neumann, les trois éléments essentiels sont"
   ]
  },
  {
   "cell_type": "markdown",
   "metadata": {},
   "source": [
    "- [ ] Le processeur, la mémoire et les dispositifs d’entrées/sortie\n",
    "- [ ] Le processeur, la carte graphique et l’écran\n",
    "- [ ] La RAM, les registres et la mémoire cache\n",
    "- [ ] Le clavier, l’écran et la souris"
   ]
  },
  {
   "cell_type": "markdown",
   "metadata": {},
   "source": [
    "5) Alan Turing"
   ]
  },
  {
   "cell_type": "markdown",
   "metadata": {},
   "source": [
    "- [ ] est un ingénieur qui construit des ordinateurs sous la direction de J. Von Neumann\n",
    "- [ ] est le co-auteur, avec J. Von Neumann, du rapport conduisant à la construction du premier ordinateur\n",
    "- [ ] est le mathématicien à l'origine d'un modèle abstrait de machine permettant d'exécuter un algorithme\n",
    "- [ ] est le mathématicien qui utilisa l'ordinateur de Von Neumann pour résoudre ses problèmes de calcul"
   ]
  },
  {
   "cell_type": "code",
   "execution_count": null,
   "metadata": {},
   "outputs": [],
   "source": []
  }
 ],
 "metadata": {
  "kernelspec": {
   "display_name": "Python 3",
   "language": "python",
   "name": "python3"
  },
  "language_info": {
   "codemirror_mode": {
    "name": "ipython",
    "version": 3
   },
   "file_extension": ".py",
   "mimetype": "text/x-python",
   "name": "python",
   "nbconvert_exporter": "python",
   "pygments_lexer": "ipython3",
   "version": "3.7.3"
  },
  "toc": {
   "base_numbering": 1,
   "nav_menu": {},
   "number_sections": true,
   "sideBar": true,
   "skip_h1_title": false,
   "title_cell": "Table of Contents",
   "title_sidebar": "Contents",
   "toc_cell": false,
   "toc_position": {},
   "toc_section_display": true,
   "toc_window_display": false
  }
 },
 "nbformat": 4,
 "nbformat_minor": 4
}